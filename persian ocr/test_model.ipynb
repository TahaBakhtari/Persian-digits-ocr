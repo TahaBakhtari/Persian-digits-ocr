{
 "cells": [
  {
   "cell_type": "code",
   "execution_count": 23,
   "metadata": {},
   "outputs": [],
   "source": [
    "import mnist\n",
    "import tensorflow as tf\n",
    "from keras.models import Sequential\n",
    "from keras.layers import Dense, Conv2D,MaxPooling2D,Flatten , Conv1D , MaxPooling1D\n",
    "import matplotlib.pyplot  as plt\n",
    "from sklearn.model_selection import train_test_split\n",
    "import numpy as np\n",
    "import cv2 , os\n",
    "%matplotlib widget"
   ]
  },
  {
   "cell_type": "code",
   "execution_count": 24,
   "metadata": {},
   "outputs": [],
   "source": [
    "def show_image(img):\n",
    "    plt.close()\n",
    "    plt.imshow(img)\n",
    "    plt.show"
   ]
  },
  {
   "cell_type": "code",
   "execution_count": 25,
   "metadata": {},
   "outputs": [],
   "source": [
    "model = Sequential()\n",
    "model.add(Conv2D(10, kernel_size=(3,3) , activation=\"relu\" , input_shape=(20 ,10 , 1)))\n",
    "model.add(MaxPooling2D((2,2)))\n",
    "\n",
    "model.add(Flatten())\n",
    "model.add(Dense(30 , activation=\"relu\"))\n",
    "model.add(Dense(10))\n",
    "model.compile(optimizer=\"adam\" , loss=tf.keras.losses.SparseCategoricalCrossentropy(from_logits=True) , metrics=[\"accuracy\"])"
   ]
  },
  {
   "cell_type": "code",
   "execution_count": 26,
   "metadata": {},
   "outputs": [],
   "source": [
    "model.load_weights(\"ocr.h5\")"
   ]
  },
  {
   "cell_type": "code",
   "execution_count": 27,
   "metadata": {},
   "outputs": [
    {
     "name": "stdout",
     "output_type": "stream",
     "text": [
      "1/1 [==============================] - 0s 37ms/step\n",
      "Predicted Number :  5\n"
     ]
    }
   ],
   "source": [
    "test_img5 = cv2.imread(\"5test.png\")\n",
    "test_img5 = cv2.cvtColor(test_img5, cv2.COLOR_BGR2GRAY)\n",
    "test_img5 = test_img5 / 255\n",
    "test_img5 = np.expand_dims(test_img5, axis=0)  # افزودن بعد برای batch size\n",
    "test_img5 = np.expand_dims(test_img5, axis=-1) \n",
    "\n",
    "\n",
    "\n",
    "result_test = model.predict(test_img5)\n",
    "\n",
    "\n",
    "wheres = 0\n",
    "maxe = result_test[0].max()\n",
    "for i in result_test[0]:\n",
    "    if i != maxe:\n",
    "        wheres += 1\n",
    "    else:\n",
    "        \n",
    "        print(\"Predicted Number : \" , wheres)\n"
   ]
  },
  {
   "cell_type": "code",
   "execution_count": 28,
   "metadata": {},
   "outputs": [],
   "source": [
    "phonenumber = cv2.imread(\"phonenumber.png\")\n",
    "phonenumber_inverted = cv2.bitwise_not(phonenumber)\n",
    "#phonenumber = np.resize(phonenumber , (20 , 10))\n",
    "#phonenumber = cv2.cvtColor(phonenumber, cv2.COLOR_BGR2GRAY)\n",
    "#phonenumber = phonenumber / 255\n",
    "s = 90 - (np.sum(phonenumber_inverted , axis=0 , keepdims=True) / 255)"
   ]
  },
  {
   "cell_type": "code",
   "execution_count": 29,
   "metadata": {},
   "outputs": [
    {
     "name": "stdout",
     "output_type": "stream",
     "text": [
      "ok\n",
      "1/1 [==============================] - 0s 12ms/step\n",
      "ok\n",
      "1/1 [==============================] - 0s 6ms/step\n",
      "ok\n",
      "1/1 [==============================] - 0s 14ms/step\n",
      "ok\n",
      "1/1 [==============================] - 0s 8ms/step\n",
      "ok\n",
      "1/1 [==============================] - 0s 8ms/step\n",
      "ok\n",
      "1/1 [==============================] - 0s 11ms/step\n",
      "ok\n",
      "1/1 [==============================] - 0s 4ms/step\n",
      "ok\n",
      "1/1 [==============================] - 0s 13ms/step\n",
      "ok\n",
      "1/1 [==============================] - 0s 14ms/step\n",
      "ok\n",
      "1/1 [==============================] - 0s 13ms/step\n",
      "ok\n",
      "1/1 [==============================] - 0s 12ms/step\n"
     ]
    },
    {
     "data": {
      "application/vnd.jupyter.widget-view+json": {
       "model_id": "84848d6349ed41d2b8b49d4e10ff6089",
       "version_major": 2,
       "version_minor": 0
      },
      "image/png": "[encoded data removed]",
      "text/html": [
       "\n",
       "            <div style=\"display: inline-block;\">\n",
       "                <div class=\"jupyter-widgets widget-label\" style=\"text-align: center;\">\n",
       "                    Figure\n",
       "                </div>\n",
       "                <img src='data:image/png;base64,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' width=640.0/>\n",
       "            </div>\n",
       "        "
      ],
      "text/plain": [
       "Canvas(toolbar=Toolbar(toolitems=[('Home', 'Reset original view', 'home', 'home'), ('Back', 'Back to previous …"
      ]
     },
     "metadata": {},
     "output_type": "display_data"
    }
   ],
   "source": [
    "pelak = phonenumber_inverted.copy()\n",
    "xi = 0\n",
    "flag1 = False\n",
    "flag2 = False\n",
    "xi1 = 0\n",
    "xi2 = 0\n",
    "img_array = []\n",
    "show = True\n",
    "result = []\n",
    "wheres = 0\n",
    "for i in s[0]:\n",
    "    xi += 1\n",
    "    if np.all(i > 45) and np.all(i < 90) and flag1 == True and flag2 == False:\n",
    "        flag2 = True\n",
    "    if np.all(i < 43): \n",
    "        pelak = cv2.line(pelak, (xi, 0), (xi, 90), (0, 0, 255), 1)\n",
    "        if flag1 == False:\n",
    "            xi1 = xi\n",
    "\n",
    "        if flag2 == True:\n",
    "            xi2 = xi\n",
    "            flag2 = False\n",
    "            croped = phonenumber[:,xi1 : xi2]\n",
    "            cv2.imshow(\"photo\", croped)\n",
    "            cv2.waitKey(0)\n",
    "            cv2.destroyAllWindows()\n",
    "            x1 = np.empty((0 , 1000))\n",
    "            test_resize = cv2.resize(croped , (10 , 20))\n",
    "            test_2gray = cv2.cvtColor(test_resize , cv2.COLOR_BGR2GRAY)\n",
    "            test_2gray = test_2gray / 255\n",
    "            if show == True:\n",
    "                show_image(test_2gray)\n",
    "                zero_test = test_2gray.copy()\n",
    "                show = False\n",
    "            else:\n",
    "                pass\n",
    "            print(\"ok\")\n",
    "            test_2gray = np.expand_dims(test_2gray, axis=0) \n",
    "            test_2gray = np.expand_dims(test_2gray, axis=-1) \n",
    "            custome_test = model.predict(test_2gray)\n",
    "            result.append(custome_test[0])\n",
    "\n",
    "\n",
    "            xi1 = xi2\n",
    "        flag1 = True\n",
    "    \n",
    "\n",
    "cv2.imshow(\"photo\", pelak)\n",
    "cv2.waitKey(0)\n",
    "cv2.destroyAllWindows()"
   ]
  },
  {
   "cell_type": "code",
   "execution_count": 30,
   "metadata": {},
   "outputs": [
    {
     "name": "stdout",
     "output_type": "stream",
     "text": [
      "Predicted Number : 4\n",
      "Predicted Number : 2\n",
      "Predicted Number : 3\n",
      "Predicted Number : 6\n",
      "Predicted Number : 4\n",
      "Predicted Number : 8\n",
      "Predicted Number : 7\n",
      "Predicted Number : 7\n",
      "Predicted Number : 7\n",
      "Predicted Number : 3\n",
      "Predicted Number : 3\n"
     ]
    }
   ],
   "source": [
    "numbers = \"\"\n",
    "for i in result:\n",
    "    wheres = 0\n",
    "    maxe = i.max()\n",
    "    for g in i:\n",
    "        if g != maxe:\n",
    "            wheres += 1\n",
    "        else:\n",
    "            numbers = numbers+f\"{wheres}\"\n",
    "            print(\"Predicted Number :\" , wheres)"
   ]
  },
  {
   "cell_type": "code",
   "execution_count": 31,
   "metadata": {},
   "outputs": [
    {
     "data": {
      "text/plain": [
       "'42364877733'"
      ]
     },
     "execution_count": 31,
     "metadata": {},
     "output_type": "execute_result"
    }
   ],
   "source": [
    "numbers"
   ]
  }
 ],
 "metadata": {
  "kernelspec": {
   "display_name": "Python 3",
   "language": "python",
   "name": "python3"
  },
  "language_info": {
   "codemirror_mode": {
    "name": "ipython",
    "version": 3
   },
   "file_extension": ".py",
   "mimetype": "text/x-python",
   "name": "python",
   "nbconvert_exporter": "python",
   "pygments_lexer": "ipython3",
   "version": "3.10.7"
  }
 },
 "nbformat": 4,
 "nbformat_minor": 2
}
